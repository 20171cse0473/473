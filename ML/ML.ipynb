{
 "cells": [
  {
   "cell_type": "code",
   "execution_count": null,
   "metadata": {},
   "outputs": [],
   "source": [
    "# LinearRegression\n",
    "import numpy as np \n",
    "import pandas as pd \n",
    "df=pd.read_csv(\"C:\\Users\\Desktop\\daibetics.csv.csv\")\n",
    "from sklearn.model_selection import train_test_split\n",
    "from sklearn.linear_model import LinearRegression\n",
    "X=df['Glucose'].values.reshape(-1,1)\n",
    "y=df['Insulin'].values.reshape(-1,1)\n",
    "X_train, X_test,y_train,y_test=train_test_split(X,y,test_size=0.2,random_state=0)\n",
    "regressor=LinearRegression()\n",
    "regressor.fit(X_train, y_train)\n",
    "p1=regressor.predict([[85]])\n",
    "p1[0]"
   ]
  },
  {
   "cell_type": "code",
   "execution_count": null,
   "metadata": {},
   "outputs": [],
   "source": [
    "#KNeighborsClassifier\n",
    "import numpy as np \n",
    "import pandas as pd \n",
    "df=pd.read_csv(\"C:\\Users\\Desktop\\daibetics.csv.csv\")\n",
    "\n",
    "from sklearn.neighbors import KNeighborsClassifier\n",
    "from sklearn.model_selection import train_test_split\n",
    "X=df[['Insulin']]\n",
    "y=df[['Skin Thichn']]\n",
    "X_train, X_test,y_train,y_test=train_test_split(X,y,random_state=1)\n",
    "knn= KNeighborsClassifier()\n",
    "knn.fit(X_train, y_train)\n",
    "p1=knn.predict(X_test)\n",
    "p1[0]"
   ]
  },
  {
   "cell_type": "code",
   "execution_count": null,
   "metadata": {},
   "outputs": [],
   "source": [
    "#DecisionTreeClassifier\n",
    "import pandas as pd\n",
    "import numpy as np\n",
    "from sklearn.datasets import load_iris\n",
    "from sklearn.tree import DecisionTreeClassifier\n",
    "from sklearn.model_selection import train_test_split\n",
    "df=pd.read_csv(\"C:\\Users\\Desktop\\daibetics.csv.csv\")\n",
    "X=df[['Insulin']]\n",
    "y=df[['Skin Thichn']]\n",
    "X_train, X_test,y_train,y_test=train_test_split(X,y,random_state=1)\n",
    "dt=  DecisionTreeClassifier()\n",
    "dt.fit(X_train, y_train)\n",
    "p1=dt.predict([[45]])\n",
    "p1[0]"
   ]
  }
 ],
 "metadata": {
  "kernelspec": {
   "display_name": "Python 3",
   "language": "python",
   "name": "python3"
  },
  "language_info": {
   "codemirror_mode": {
    "name": "ipython",
    "version": 3
   },
   "file_extension": ".py",
   "mimetype": "text/x-python",
   "name": "python",
   "nbconvert_exporter": "python",
   "pygments_lexer": "ipython3",
   "version": "3.7.0"
  }
 },
 "nbformat": 4,
 "nbformat_minor": 2
}
